{
  "cells": [
    {
      "cell_type": "markdown",
      "metadata": {
        "id": "view-in-github",
        "colab_type": "text"
      },
      "source": [
        "<a href=\"https://colab.research.google.com/github/Dimble-Scaria/Tackling-counterfeit-products-using-CNN/blob/main/Capstone_project.ipynb\" target=\"_parent\"><img src=\"https://colab.research.google.com/assets/colab-badge.svg\" alt=\"Open In Colab\"/></a>"
      ]
    },
    {
      "cell_type": "code",
      "execution_count": null,
      "metadata": {
        "id": "G8cTNqlI6A3u"
      },
      "outputs": [],
      "source": [
        "import pandas as pd\n",
        "import numpy as np\n",
        "import matplotlib.pyplot as plt\n",
        "import matplotlib as mpl\n",
        "import tensorflow as tf\n",
        "from tensorflow.keras.models import Model\n",
        "from sklearn.model_selection import train_test_split\n",
        "from sklearn.preprocessing import MinMaxScaler, StandardScaler\n",
        "import cv2\n",
        "from PIL import Image\n",
        "import glob"
      ]
    },
    {
      "cell_type": "code",
      "execution_count": null,
      "metadata": {
        "colab": {
          "base_uri": "https://localhost:8080/"
        },
        "id": "gOIZxKEq3Jth",
        "outputId": "a45cabfc-16e4-4283-b693-e3576f973c04"
      },
      "outputs": [
        {
          "name": "stdout",
          "output_type": "stream",
          "text": [
            "Mounted at /content/gdrive/\n"
          ]
        }
      ],
      "source": [
        "from google.colab import drive                #Mounting with google drive\n",
        "drive.mount('/content/gdrive/', force_remount=True)\n"
      ]
    },
    {
      "cell_type": "code",
      "execution_count": 16,
      "metadata": {
        "id": "egRezzxtP-IK"
      },
      "outputs": [],
      "source": [
        "image_list = []\n",
        "for filename in glob.glob('/content/gdrive/MyDrive/capstone_project/tom/*.jpg'):\n",
        "    img_color = cv2.imread(filename,1)\n",
        "    image_list.append(img_color)\n",
        "    #plt.imshow(img_color)\n",
        "    #plt.axis(\"off\") \n",
        "    #plt.show()\n",
        "    \n",
        "   '''img_color = cv2.imread('rosebud-6006985_1280.jpg',1)\n",
        "img_grayscale = cv2.imread('rosebud-6006985_1280.jpg',0)\n",
        "img_unchanged = cv2.imread('rosebud-6006985_1280.jpg',-1)\n",
        "  '''  "
      ]
    },
    {
      "cell_type": "code",
      "source": [
        "print(len(image_list))          # image_list contains the images in BGR scale \n",
        "fig=image_list[2]\n",
        "fig.shape"
      ],
      "metadata": {
        "colab": {
          "base_uri": "https://localhost:8080/"
        },
        "id": "fFvDrs8A_AxY",
        "outputId": "e40d4949-9ae8-4671-c2c1-30a7fbc8a225"
      },
      "execution_count": 26,
      "outputs": [
        {
          "output_type": "stream",
          "name": "stdout",
          "text": [
            "1930\n"
          ]
        },
        {
          "output_type": "execute_result",
          "data": {
            "text/plain": [
              "(480, 854, 3)"
            ]
          },
          "metadata": {},
          "execution_count": 26
        }
      ]
    },
    {
      "cell_type": "code",
      "execution_count": null,
      "metadata": {
        "id": "dncvXojP3cxF"
      },
      "outputs": [],
      "source": [
        "import pandas as pd\n",
        "import numpy as np\n",
        "import matplotlib.pyplot as plt\n",
        "import matplotlib as mpl\n",
        "import tensorflow as tf\n",
        "from tensorflow.keras.models import Model\n",
        "from sklearn.model_selection import train_test_split\n",
        "from sklearn.preprocessing import MinMaxScaler, StandardScaler\n",
        "mpl.rcParams['figure.figsize'] = (10, 5)\n",
        "mpl.rcParams['axes.grid'] = False"
      ]
    },
    {
      "cell_type": "code",
      "execution_count": null,
      "metadata": {
        "id": "Xhfrj5d0Ojx5"
      },
      "outputs": [],
      "source": [
        "model = tf.keras.Sequential()\n",
        "model.add(tf.keras.layers.Dense(64, activation=\"relu\"))\n",
        "model.add(tf.keras.layers.Dense(32, activation=\"relu\"))\n",
        "model.add(tf.keras.layers.Dense(16, activation=\"relu\"))\n",
        "model.add(tf.keras.layers.Dense(8, activation=\"relu\"))\n",
        "model.add(tf.keras.layers.Dense(16, activation=\"relu\"))\n",
        "model.add(tf.keras.layers.Dense(32, activation=\"relu\"))\n",
        "model.add(tf.keras.layers.Dense(64, activation=\"relu\"))\n",
        "model.add(tf.keras.layers.Dense(140, activation=\"sigmoid\"))"
      ]
    },
    {
      "cell_type": "code",
      "execution_count": null,
      "metadata": {
        "id": "OUPBgUYdXG59"
      },
      "outputs": [],
      "source": [
        "class AutoEncoder(Model):\n",
        "  def __init__(self):\n",
        "    super(AutoEncoder, self).__init__()\n",
        "    self.encoder = tf.keras.Sequential([\n",
        "                  tf.keras.layers.Dense(64, activation=\"relu\"),\n",
        "                  tf.keras.layers.Dense(32, activation=\"relu\"),\n",
        "                  tf.keras.layers.Dense(16, activation=\"relu\"),\n",
        "                  tf.keras.layers.Dense(8, activation=\"relu\")\n",
        "              ])\n",
        "    self.decoder = tf.keras.Sequential([\n",
        "                  tf.keras.layers.Dense(16, activation=\"relu\"),\n",
        "                  tf.keras.layers.Dense(32, activation=\"relu\"),\n",
        "                  tf.keras.layers.Dense(64, activation=\"relu\"),\n",
        "                  tf.keras.layers.Dense(140, activation=\"sigmoid\")\n",
        "              ])\n",
        "  def call(self, x):\n",
        "    encoded = self.encoder(x)\n",
        "    decoded = self.decoder(encoded)\n",
        "    return decoded"
      ]
    },
    {
      "cell_type": "code",
      "execution_count": 22,
      "metadata": {
        "id": "_Ug-mx7QJhVL"
      },
      "outputs": [],
      "source": []
    },
    {
      "cell_type": "code",
      "execution_count": null,
      "metadata": {
        "id": "N2WZ3_1qQNwE"
      },
      "outputs": [],
      "source": []
    },
    {
      "cell_type": "code",
      "execution_count": 22,
      "metadata": {
        "id": "J8ujAjepZvtG"
      },
      "outputs": [],
      "source": []
    },
    {
      "cell_type": "code",
      "execution_count": 22,
      "metadata": {
        "id": "9KqbWCinFju_"
      },
      "outputs": [],
      "source": []
    },
    {
      "cell_type": "code",
      "execution_count": null,
      "metadata": {
        "id": "OY076VVz2H9F"
      },
      "outputs": [],
      "source": []
    }
  ],
  "metadata": {
    "colab": {
      "provenance": [],
      "authorship_tag": "ABX9TyPKN6p/4aWMKcdOSbNbHm3b",
      "include_colab_link": true
    },
    "kernelspec": {
      "display_name": "Python 3",
      "name": "python3"
    },
    "language_info": {
      "name": "python"
    }
  },
  "nbformat": 4,
  "nbformat_minor": 0
}